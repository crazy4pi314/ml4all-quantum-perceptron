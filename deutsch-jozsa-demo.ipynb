{
 "cells": [
  {
   "cell_type": "code",
   "execution_count": 10,
   "metadata": {},
   "outputs": [
    {
     "data": {
      "application/json": "[\"Qrng\"]",
      "text/html": [
       "<ul><li>Qrng</li></ul>"
      ],
      "text/plain": [
       "Qrng"
      ]
     },
     "execution_count": 10,
     "metadata": {},
     "output_type": "execute_result"
    }
   ],
   "source": [
    "open Microsoft.Quantum.Extensions.Diagnostics;\n",
    "operation Qrng() : Result {\n",
    "    using (qubit = Qubit()) {\n",
    "        Message(\"Here is what the simulator uses to record a qubit in the 0 state:\");\n",
    "        DumpRegister((), [qubit]);\n",
    "\n",
    "        Message(\" \");\n",
    "        Message(\"Here is what the simulator uses to record a superposition state:\");\n",
    "        H(qubit);\n",
    "        DumpRegister((), [qubit]);\n",
    "        \n",
    "        return MResetZ(qubit);\n",
    "    }\n",
    "}"
   ]
  },
  {
   "cell_type": "code",
   "execution_count": 11,
   "metadata": {},
   "outputs": [
    {
     "name": "stdout",
     "output_type": "stream",
     "text": [
      "Here is what the simulator uses to record a qubit in the 0 state:\n",
      "# wave function for qubits with ids (least to most significant): 0\n",
      "0:\t1\t0\n",
      "1:\t0\t0\n",
      " \n",
      "Here is what the simulator uses to record a superposition state:\n",
      "# wave function for qubits with ids (least to most significant): 0\n",
      "0:\t0.707106781186548\t0\n",
      "1:\t0.707106781186548\t0\n"
     ]
    },
    {
     "data": {
      "application/json": "0",
      "text/plain": [
       "Zero"
      ]
     },
     "execution_count": 11,
     "metadata": {},
     "output_type": "execute_result"
    }
   ],
   "source": [
    "%simulate Qrng"
   ]
  },
  {
   "cell_type": "code",
   "execution_count": 13,
   "metadata": {},
   "outputs": [
    {
     "data": {
      "application/json": "[\"IdOracle\",\"NotOracle\",\"OneOracle\",\"ZeroOracle\"]",
      "text/html": [
       "<ul><li>IdOracle</li><li>NotOracle</li><li>OneOracle</li><li>ZeroOracle</li></ul>"
      ],
      "text/plain": [
       "IdOracle, NotOracle, OneOracle, ZeroOracle"
      ]
     },
     "execution_count": 13,
     "metadata": {},
     "output_type": "execute_result"
    }
   ],
   "source": [
    "operation ZeroOracle(control : Qubit, target : Qubit) : Unit {\n",
    "}\n",
    "\n",
    "operation OneOracle(control : Qubit, target : Qubit) : Unit {\n",
    "    X(target);\n",
    "}\n",
    "\n",
    "operation IdOracle(control : Qubit, target : Qubit) : Unit {\n",
    "    CNOT(control, target);\n",
    "}\n",
    "\n",
    "operation NotOracle(control : Qubit, target : Qubit) : Unit {\n",
    "    X(control);\n",
    "    CNOT(control, target);\n",
    "    X(control);\n",
    "}"
   ]
  },
  {
   "cell_type": "code",
   "execution_count": null,
   "metadata": {},
   "outputs": [],
   "source": [
    "operation IsOracleBalanced(\n",
    "    oracle : ((Qubit, Qubit) => Unit)) : Bool {\n",
    "mutable result = Zero;\n",
    "using ((control, target) = (Qubit(), Qubit())) { //①\n",
    "H(control); //②\n",
    "X(target);\n",
    "H(target);\n",
    "oracle(control, target); //③\n",
    "H(target); //④\n",
    "X(target);\n",
    "set result = MResetX(control); //⑤\n",
    "}\n",
    "return result == One;\n",
    "}"
   ]
  }
 ],
 "metadata": {
  "kernelspec": {
   "display_name": "Q#",
   "language": "qsharp",
   "name": "iqsharp"
  },
  "language_info": {
   "file_extension": ".qs",
   "mimetype": "text/x-qsharp",
   "name": "qsharp",
   "version": "0.4"
  }
 },
 "nbformat": 4,
 "nbformat_minor": 2
}
