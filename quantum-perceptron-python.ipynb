{
 "cells": [
  {
   "cell_type": "code",
   "execution_count": 1,
   "metadata": {},
   "outputs": [],
   "source": [
    "import logging\n",
    "logging.basicConfig(level=logging.DEBUG)"
   ]
  },
  {
   "cell_type": "code",
   "execution_count": 2,
   "metadata": {},
   "outputs": [
    {
     "name": "stderr",
     "output_type": "stream",
     "text": [
      "INFO:qsharp.clients.iqsharp:Starting IQ# kernel...\n",
      "DEBUG:qsharp.clients.iqsharp:sending:\n",
      "%version\n",
      "INFO:qsharp.clients.iqsharp:Exception while checking if IQ# is ready.\n",
      "Traceback (most recent call last):\n",
      "  File \"C:\\ProgramData\\Anaconda3\\lib\\site-packages\\qsharp\\clients\\iqsharp.py\", line 70, in is_ready\n",
      "    result = self.component_versions(timeout=6)\n",
      "  File \"C:\\ProgramData\\Anaconda3\\lib\\site-packages\\qsharp\\clients\\iqsharp.py\", line 128, in component_versions\n",
      "    self.execute(\"%version\", output_hook=capture, **kwargs)\n",
      "  File \"C:\\ProgramData\\Anaconda3\\lib\\site-packages\\qsharp\\clients\\iqsharp.py\", line 152, in execute\n",
      "    reply = self.kernel_client.execute_interactive(input, output_hook=_output_hook, **kwargs)\n",
      "  File \"C:\\ProgramData\\Anaconda3\\lib\\site-packages\\jupyter_client\\blocking\\client.py\", line 325, in execute_interactive\n",
      "    raise TimeoutError(\"Timeout waiting for output\")\n",
      "TimeoutError: Timeout waiting for output\n"
     ]
    },
    {
     "name": "stdout",
     "output_type": "stream",
     "text": [
      "Preparing Q# environment...\n"
     ]
    },
    {
     "name": "stderr",
     "output_type": "stream",
     "text": [
      "DEBUG:qsharp.clients.iqsharp:sending:\n",
      "%version\n",
      "DEBUG:qsharp.clients.iqsharp:received:\n",
      "{'header': {'msg_id': 'ba979e2d-046b-4fa8-a4e9-bee4f7d0a33b', 'username': None, 'session': '9ac19391-3163ebe306b8efde50de7bb4', 'msg_type': 'execute_reply', 'version': '5.2.0', 'date': datetime.datetime(2019, 4, 21, 21, 11, 7, 878551, tzinfo=datetime.timezone.utc)}, 'msg_id': 'ba979e2d-046b-4fa8-a4e9-bee4f7d0a33b', 'msg_type': 'execute_reply', 'parent_header': {'msg_id': '2d4a2f3d-1879da0b678fba688d61de36', 'username': 'username', 'session': '9ac19391-3163ebe306b8efde50de7bb4', 'msg_type': 'execute_request', 'version': '5.3'}, 'metadata': None, 'content': {'status': 'ok', 'execution_count': 2, 'payload': [], 'user_expressions': None}, 'buffers': []}\n",
      "INFO:qsharp.clients.iqsharp:Q# version\n",
      "{'iqsharp': LooseVersion ('0.6.1904.2013'), 'Jupyter Core': LooseVersion ('1.1.13141.0')}\n"
     ]
    }
   ],
   "source": [
    "import numpy as np\n",
    "import qsharp"
   ]
  },
  {
   "cell_type": "code",
   "execution_count": 3,
   "metadata": {},
   "outputs": [
    {
     "name": "stderr",
     "output_type": "stream",
     "text": [
      "DEBUG:qsharp.clients.iqsharp:sending:\n",
      "%version\n",
      "DEBUG:qsharp.clients.iqsharp:received:\n",
      "{'header': {'msg_id': '21fda82f-e7d1-418f-babb-0aa024521418', 'username': None, 'session': '9ac19391-3163ebe306b8efde50de7bb4', 'msg_type': 'execute_reply', 'version': '5.2.0', 'date': datetime.datetime(2019, 4, 21, 21, 11, 20, 686003, tzinfo=datetime.timezone.utc)}, 'msg_id': '21fda82f-e7d1-418f-babb-0aa024521418', 'msg_type': 'execute_reply', 'parent_header': {'msg_id': 'd4cb69ed-29d54f231c07a15a0e3e3e1e', 'username': 'username', 'session': '9ac19391-3163ebe306b8efde50de7bb4', 'msg_type': 'execute_request', 'version': '5.3'}, 'metadata': None, 'content': {'status': 'ok', 'execution_count': 3, 'payload': [], 'user_expressions': None}, 'buffers': []}\n"
     ]
    },
    {
     "data": {
      "text/plain": [
       "{'iqsharp': LooseVersion ('0.6.1904.2013'),\n",
       " 'Jupyter Core': LooseVersion ('1.1.13141.0'),\n",
       " 'qsharp': LooseVersion ('0.5.1903.2902')}"
      ]
     },
     "execution_count": 3,
     "metadata": {},
     "output_type": "execute_result"
    }
   ],
   "source": [
    "qsharp.component_versions()"
   ]
  },
  {
   "cell_type": "code",
   "execution_count": 4,
   "metadata": {},
   "outputs": [],
   "source": [
    "import random"
   ]
  },
  {
   "cell_type": "code",
   "execution_count": 5,
   "metadata": {},
   "outputs": [
    {
     "name": "stderr",
     "output_type": "stream",
     "text": [
      "DEBUG:qsharp.clients.iqsharp:sending:\n",
      "%who\n",
      "DEBUG:qsharp.clients.iqsharp:received:\n",
      "{'header': {'msg_id': '8b774c7f-00e0-4541-b1f0-bbce0251eb5f', 'username': None, 'session': '9ac19391-3163ebe306b8efde50de7bb4', 'msg_type': 'execute_reply', 'version': '5.2.0', 'date': datetime.datetime(2019, 4, 21, 21, 11, 28, 759800, tzinfo=datetime.timezone.utc)}, 'msg_id': '8b774c7f-00e0-4541-b1f0-bbce0251eb5f', 'msg_type': 'execute_reply', 'parent_header': {'msg_id': 'b52b635d-a987b016ee423633e3fdf7fb', 'username': 'username', 'session': '9ac19391-3163ebe306b8efde50de7bb4', 'msg_type': 'execute_request', 'version': '5.3'}, 'metadata': None, 'content': {'status': 'ok', 'execution_count': 4, 'payload': [], 'user_expressions': None}, 'buffers': []}\n"
     ]
    },
    {
     "data": {
      "text/plain": [
       "{'QuantumPerceptron': ['Classify',\n",
       "  'EncodeDataInQubits',\n",
       "  'EstimateQuantumClassifierSuccessRate',\n",
       "  'Validate']}"
      ]
     },
     "execution_count": 5,
     "metadata": {},
     "output_type": "execute_result"
    }
   ],
   "source": [
    "qsharp.get_available_operations_by_namespace()"
   ]
  },
  {
   "cell_type": "code",
   "execution_count": 6,
   "metadata": {},
   "outputs": [
    {
     "name": "stderr",
     "output_type": "stream",
     "text": [
      "DEBUG:qsharp.clients.iqsharp:sending:\n",
      "%workspace reload\n",
      "DEBUG:qsharp.clients.iqsharp:received:\n",
      "{'header': {'msg_id': 'ddf11a78-0bbc-43f9-a2ee-cf4c791979ca', 'username': None, 'session': '9ac19391-3163ebe306b8efde50de7bb4', 'msg_type': 'execute_reply', 'version': '5.2.0', 'date': datetime.datetime(2019, 4, 21, 21, 11, 45, 887031, tzinfo=datetime.timezone.utc)}, 'msg_id': 'ddf11a78-0bbc-43f9-a2ee-cf4c791979ca', 'msg_type': 'execute_reply', 'parent_header': {'msg_id': 'f6b4e076-b3bc15d04e593610490e0555', 'username': 'username', 'session': '9ac19391-3163ebe306b8efde50de7bb4', 'msg_type': 'execute_request', 'version': '5.3'}, 'metadata': None, 'content': {'status': 'ok', 'execution_count': 5, 'payload': [], 'user_expressions': None}, 'buffers': []}\n"
     ]
    }
   ],
   "source": [
    "qsharp.reload()"
   ]
  },
  {
   "cell_type": "code",
   "execution_count": 7,
   "metadata": {},
   "outputs": [],
   "source": [
    "def GenerateSplitAngleDataset(n_data_points, seperation_angle, separation_margin):\n",
    "\n",
    "    sampling_ranges = (\n",
    "        seperation_angle + separation_margin * np.array([[1, -1], [-1, 1]]) / 2 + np.pi * np.array([[0, 1], [0, 1]])\n",
    "    ) % (2 * np.pi)\n",
    "\n",
    "    labels = [random.randint(0, 1) for _ in range(n_data_points)]\n",
    "    values = [random.uniform(*sampling_ranges[label]) for label in labels]\n",
    "    \n",
    "    return values, labels"
   ]
  },
  {
   "cell_type": "code",
   "execution_count": 8,
   "metadata": {},
   "outputs": [],
   "source": [
    "values, labels = GenerateSplitAngleDataset(10, 0, 0.2)"
   ]
  },
  {
   "cell_type": "code",
   "execution_count": 9,
   "metadata": {},
   "outputs": [
    {
     "name": "stderr",
     "output_type": "stream",
     "text": [
      "DEBUG:qsharp.clients.iqsharp:sending:\n",
      "%who\n",
      "DEBUG:qsharp.clients.iqsharp:received:\n",
      "{'header': {'msg_id': '3d6de369-56de-4066-bd02-6c503c5ba563', 'username': None, 'session': '9ac19391-3163ebe306b8efde50de7bb4', 'msg_type': 'execute_reply', 'version': '5.2.0', 'date': datetime.datetime(2019, 4, 21, 21, 11, 46, 16824, tzinfo=datetime.timezone.utc)}, 'msg_id': '3d6de369-56de-4066-bd02-6c503c5ba563', 'msg_type': 'execute_reply', 'parent_header': {'msg_id': '67d64911-9bdb36a10a8561a85c9fcd22', 'username': 'username', 'session': '9ac19391-3163ebe306b8efde50de7bb4', 'msg_type': 'execute_request', 'version': '5.3'}, 'metadata': None, 'content': {'status': 'ok', 'execution_count': 6, 'payload': [], 'user_expressions': None}, 'buffers': []}\n",
      "DEBUG:qsharp.loader:Trying to load QuantumPerceptron as a Q# namespace.\n",
      "DEBUG:qsharp.clients.iqsharp:sending:\n",
      "%who\n",
      "DEBUG:qsharp.clients.iqsharp:received:\n",
      "{'header': {'msg_id': '0a868eb4-5518-401d-a069-e078bafd560a', 'username': None, 'session': '9ac19391-3163ebe306b8efde50de7bb4', 'msg_type': 'execute_reply', 'version': '5.2.0', 'date': datetime.datetime(2019, 4, 21, 21, 11, 46, 64675, tzinfo=datetime.timezone.utc)}, 'msg_id': '0a868eb4-5518-401d-a069-e078bafd560a', 'msg_type': 'execute_reply', 'parent_header': {'msg_id': '1a0a2f00-a96d01ac5bbad1e5d4a49919', 'username': 'username', 'session': '9ac19391-3163ebe306b8efde50de7bb4', 'msg_type': 'execute_request', 'version': '5.3'}, 'metadata': None, 'content': {'status': 'ok', 'execution_count': 7, 'payload': [], 'user_expressions': None}, 'buffers': []}\n",
      "DEBUG:qsharp.clients.iqsharp:sending:\n",
      "?QuantumPerceptron.EstimateQuantumClassifierSuccessRate\n",
      "DEBUG:qsharp.clients.iqsharp:received:\n",
      "{'header': {'msg_id': 'f185bbdb-1e04-4214-9ba9-b549f539f355', 'username': None, 'session': '9ac19391-3163ebe306b8efde50de7bb4', 'msg_type': 'execute_reply', 'version': '5.2.0', 'date': datetime.datetime(2019, 4, 21, 21, 11, 46, 508351, tzinfo=datetime.timezone.utc)}, 'msg_id': 'f185bbdb-1e04-4214-9ba9-b549f539f355', 'msg_type': 'execute_reply', 'parent_header': {'msg_id': 'b8821d59-8fa1d7a205b6176e013bd32e', 'username': 'username', 'session': '9ac19391-3163ebe306b8efde50de7bb4', 'msg_type': 'execute_request', 'version': '5.3'}, 'metadata': None, 'content': {'status': 'ok', 'execution_count': 8, 'payload': [], 'user_expressions': None}, 'buffers': []}\n",
      "DEBUG:qsharp.clients.iqsharp:sending:\n",
      "%who\n",
      "DEBUG:qsharp.clients.iqsharp:received:\n",
      "{'header': {'msg_id': 'a2744302-e978-4e64-b275-254b12c285ec', 'username': None, 'session': '9ac19391-3163ebe306b8efde50de7bb4', 'msg_type': 'execute_reply', 'version': '5.2.0', 'date': datetime.datetime(2019, 4, 21, 21, 11, 46, 516358, tzinfo=datetime.timezone.utc)}, 'msg_id': 'a2744302-e978-4e64-b275-254b12c285ec', 'msg_type': 'execute_reply', 'parent_header': {'msg_id': '7110ca61-f8cb1835c31c2e3eff48eff1', 'username': 'username', 'session': '9ac19391-3163ebe306b8efde50de7bb4', 'msg_type': 'execute_request', 'version': '5.3'}, 'metadata': None, 'content': {'status': 'ok', 'execution_count': 9, 'payload': [], 'user_expressions': None}, 'buffers': []}\n",
      "DEBUG:qsharp.clients.iqsharp:sending:\n",
      "?QuantumPerceptron.EstimateQuantumClassifierSuccessRate\n",
      "DEBUG:qsharp.clients.iqsharp:received:\n",
      "{'header': {'msg_id': '08e9cdd9-791f-4a07-8cbe-b6446e3650b7', 'username': None, 'session': '9ac19391-3163ebe306b8efde50de7bb4', 'msg_type': 'execute_reply', 'version': '5.2.0', 'date': datetime.datetime(2019, 4, 21, 21, 11, 46, 525306, tzinfo=datetime.timezone.utc)}, 'msg_id': '08e9cdd9-791f-4a07-8cbe-b6446e3650b7', 'msg_type': 'execute_reply', 'parent_header': {'msg_id': '93bb7526-5bf9a8f9216caa9495445354', 'username': 'username', 'session': '9ac19391-3163ebe306b8efde50de7bb4', 'msg_type': 'execute_request', 'version': '5.3'}, 'metadata': None, 'content': {'status': 'ok', 'execution_count': 10, 'payload': [], 'user_expressions': None}, 'buffers': []}\n"
     ]
    }
   ],
   "source": [
    "from QuantumPerceptron import EstimateQuantumClassifierSuccessRate"
   ]
  },
  {
   "cell_type": "code",
   "execution_count": 10,
   "metadata": {},
   "outputs": [
    {
     "name": "stderr",
     "output_type": "stream",
     "text": [
      "DEBUG:qsharp.clients.iqsharp:sending:\n",
      "%simulate QuantumPerceptron.EstimateQuantumClassifierSuccessRate {\"alpha\": 0, \"dataPoints\": [0.552430027756981, 3.4105185532910265, 4.616409817389522, 5.751681698798789, 1.121334467241166, 5.335323554829022, 1.0218387672775846, 3.5317416703255717, 1.8949354738681112, 2.985360466486521], \"labels\": [0, 1, 1, 1, 0, 1, 0, 1, 0, 0], \"nSamples\": 10}\n",
      "Constructor on type 'System.ValueTuple`4[[System.Double, System.Private.CoreLib, Version=4.0.0.0, Culture=neutral, PublicKeyToken=7cec85d7bea7798e],[Microsoft.Quantum.Simulation.Core.IQArray`1[[System.Double, System.Private.CoreLib, Version=4.0.0.0, Culture=neutral, PublicKeyToken=7cec85d7bea7798e]], Microsoft.Quantum.Simulation.Core, Version=0.6.1904.2013, Culture=neutral, PublicKeyToken=40866b40fd95c7f5],[Microsoft.Quantum.Simulation.Core.IQArray`1[[System.Int64, System.Private.CoreLib, Version=4.0.0.0, Culture=neutral, PublicKeyToken=7cec85d7bea7798e]], Microsoft.Quantum.Simulation.Core, Version=0.6.1904.2013, Culture=neutral, PublicKeyToken=40866b40fd95c7f5],[System.Int64, System.Private.CoreLib, Version=4.0.0.0, Culture=neutral, PublicKeyToken=7cec85d7bea7798e]]' not found.\n",
      "DEBUG:qsharp.clients.iqsharp:received:\n",
      "{'header': {'msg_id': 'c9703c2d-ca85-4def-9c7f-f9c4e380b5de', 'username': None, 'session': '9ac19391-3163ebe306b8efde50de7bb4', 'msg_type': 'execute_reply', 'version': '5.2.0', 'date': datetime.datetime(2019, 4, 21, 21, 11, 55, 467401, tzinfo=datetime.timezone.utc)}, 'msg_id': 'c9703c2d-ca85-4def-9c7f-f9c4e380b5de', 'msg_type': 'execute_reply', 'parent_header': {'msg_id': '4a167554-94342942ae2e94686a864007', 'username': 'username', 'session': '9ac19391-3163ebe306b8efde50de7bb4', 'msg_type': 'execute_request', 'version': '5.3'}, 'metadata': None, 'content': {'status': 'error', 'execution_count': 11, 'payload': [], 'user_expressions': None}, 'buffers': []}\n"
     ]
    }
   ],
   "source": [
    "EstimateQuantumClassifierSuccessRate.simulate(alpha=0, dataPoints=values, labels=labels, nSamples=10)"
   ]
  },
  {
   "cell_type": "code",
   "execution_count": 11,
   "metadata": {},
   "outputs": [
    {
     "name": "stderr",
     "output_type": "stream",
     "text": [
      "DEBUG:qsharp.clients.iqsharp:sending:\n",
      "\n",
      "function Fn1(alpha : Double[]) : Unit {\n",
      "    Message($\"{alpha}\");\n",
      "}\n",
      "\n",
      "DEBUG:qsharp.clients.iqsharp:received:\n",
      "{'header': {'msg_id': '6f40c020-af4e-43ae-9808-f07181c326ac', 'username': None, 'session': '9ac19391-3163ebe306b8efde50de7bb4', 'msg_type': 'execute_reply', 'version': '5.2.0', 'date': datetime.datetime(2019, 4, 21, 21, 12, 4, 534161, tzinfo=datetime.timezone.utc)}, 'msg_id': '6f40c020-af4e-43ae-9808-f07181c326ac', 'msg_type': 'execute_reply', 'parent_header': {'msg_id': 'cc14cce8-4c1860b03a344222c76b118a', 'username': 'username', 'session': '9ac19391-3163ebe306b8efde50de7bb4', 'msg_type': 'execute_request', 'version': '5.3'}, 'metadata': None, 'content': {'status': 'ok', 'execution_count': 12, 'payload': [], 'user_expressions': None}, 'buffers': []}\n"
     ]
    }
   ],
   "source": [
    "fn1 = qsharp.compile(\"\"\"\n",
    "function Fn1(alpha : Double[]) : Unit {\n",
    "    Message($\"{alpha}\");\n",
    "}\n",
    "\"\"\")"
   ]
  },
  {
   "cell_type": "code",
   "execution_count": 12,
   "metadata": {},
   "outputs": [
    {
     "name": "stderr",
     "output_type": "stream",
     "text": [
      "DEBUG:qsharp.clients.iqsharp:sending:\n",
      "%simulate Fn1 {\"alpha\": [0, 1]}\n",
      "Unable to cast object of type 'System.Double[]' to type 'Microsoft.Quantum.Simulation.Core.IQArray`1[System.Double]'.\n",
      "DEBUG:qsharp.clients.iqsharp:received:\n",
      "{'header': {'msg_id': 'dce3ee02-2dfc-4e2b-ab16-6b7b0b66060c', 'username': None, 'session': '9ac19391-3163ebe306b8efde50de7bb4', 'msg_type': 'execute_reply', 'version': '5.2.0', 'date': datetime.datetime(2019, 4, 21, 21, 12, 8, 650246, tzinfo=datetime.timezone.utc)}, 'msg_id': 'dce3ee02-2dfc-4e2b-ab16-6b7b0b66060c', 'msg_type': 'execute_reply', 'parent_header': {'msg_id': '8532f20a-34dcd9420a4e1261af4daac9', 'username': 'username', 'session': '9ac19391-3163ebe306b8efde50de7bb4', 'msg_type': 'execute_request', 'version': '5.3'}, 'metadata': None, 'content': {'status': 'error', 'execution_count': 13, 'payload': [], 'user_expressions': None}, 'buffers': []}\n"
     ]
    }
   ],
   "source": [
    "fn1.simulate(alpha=[0, 1])"
   ]
  },
  {
   "cell_type": "code",
   "execution_count": null,
   "metadata": {},
   "outputs": [],
   "source": []
  }
 ],
 "metadata": {
  "kernelspec": {
   "display_name": "Python 3",
   "language": "python",
   "name": "python3"
  },
  "language_info": {
   "codemirror_mode": {
    "name": "ipython",
    "version": 3
   },
   "file_extension": ".py",
   "mimetype": "text/x-python",
   "name": "python",
   "nbconvert_exporter": "python",
   "pygments_lexer": "ipython3",
   "version": "3.7.1"
  }
 },
 "nbformat": 4,
 "nbformat_minor": 2
}
