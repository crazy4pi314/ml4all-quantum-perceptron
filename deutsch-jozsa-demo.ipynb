{
 "cells": [
  {
   "cell_type": "markdown",
   "metadata": {},
   "source": [
    "# Intro to Q\\# #\n",
    "---"
   ]
  },
  {
   "cell_type": "markdown",
   "metadata": {},
   "source": [
    "## Quantum random number generator"
   ]
  },
  {
   "cell_type": "code",
   "execution_count": 1,
   "metadata": {},
   "outputs": [
    {
     "data": {
      "application/json": "[\"Qrng\"]",
      "text/html": [
       "<ul><li>Qrng</li></ul>"
      ],
      "text/plain": [
       "Qrng"
      ]
     },
     "execution_count": 1,
     "metadata": {},
     "output_type": "execute_result"
    }
   ],
   "source": [
    "open Microsoft.Quantum.Extensions.Diagnostics;\n",
    "\n",
    "operation Qrng() : Result {\n",
    "    using (qubit = Qubit()) {\n",
    "\n",
    "        H(qubit);\n",
    "       \n",
    "        return MResetZ(qubit);\n",
    "    }\n",
    "}"
   ]
  },
  {
   "cell_type": "code",
   "execution_count": 2,
   "metadata": {},
   "outputs": [
    {
     "data": {
      "application/json": "0",
      "text/plain": [
       "Zero"
      ]
     },
     "execution_count": 2,
     "metadata": {},
     "output_type": "execute_result"
    }
   ],
   "source": [
    "%simulate Qrng"
   ]
  },
  {
   "cell_type": "code",
   "execution_count": 3,
   "metadata": {},
   "outputs": [
    {
     "data": {
      "application/json": "[\"QrngWithInfo\"]",
      "text/html": [
       "<ul><li>QrngWithInfo</li></ul>"
      ],
      "text/plain": [
       "QrngWithInfo"
      ]
     },
     "execution_count": 3,
     "metadata": {},
     "output_type": "execute_result"
    }
   ],
   "source": [
    "open Microsoft.Quantum.Extensions.Diagnostics;\n",
    "operation QrngWithInfo() : Result {\n",
    "\n",
    "    using (qubit = Qubit()) {\n",
    "    \n",
    "        Message(\"Here is what the simulator uses to record a qubit in the 0 state:\");\n",
    "        DumpRegister((), [qubit]);\n",
    "\n",
    "        Message(\" \");\n",
    "        \n",
    "        H(qubit);\n",
    "        \n",
    "        Message(\"Here is what the simulator uses to record a superposition state:\");\n",
    "        DumpRegister((), [qubit]);\n",
    "        \n",
    "        return MResetZ(qubit);\n",
    "    }\n",
    "}"
   ]
  },
  {
   "cell_type": "code",
   "execution_count": 4,
   "metadata": {},
   "outputs": [
    {
     "name": "stdout",
     "output_type": "stream",
     "text": [
      "Here is what the simulator uses to record a qubit in the 0 state:\n",
      "# wave function for qubits with ids (least to most significant): 0\n",
      "0:\t1\t0\n",
      "1:\t0\t0\n",
      " \n",
      "Here is what the simulator uses to record a superposition state:\n",
      "# wave function for qubits with ids (least to most significant): 0\n",
      "0:\t0.707106781186548\t0\n",
      "1:\t0.707106781186548\t0\n"
     ]
    },
    {
     "data": {
      "application/json": "0",
      "text/plain": [
       "Zero"
      ]
     },
     "execution_count": 4,
     "metadata": {},
     "output_type": "execute_result"
    }
   ],
   "source": [
    "%simulate QrngWithInfo"
   ]
  },
  {
   "cell_type": "code",
   "execution_count": 5,
   "metadata": {},
   "outputs": [
    {
     "data": {
      "application/json": "[\"Qrng\"]",
      "text/html": [
       "<ul><li>Qrng</li></ul>"
      ],
      "text/plain": [
       "Qrng"
      ]
     },
     "execution_count": 5,
     "metadata": {},
     "output_type": "execute_result"
    }
   ],
   "source": [
    "operation Qrng(nDigits : Int) : Int[] {\n",
    "\n",
    "    // Start with an array for the results:\n",
    "    mutable bitList = new Int[nDigits];\n",
    "    \n",
    "    // Loop for nDigits, preparing an entangled state and then measurning it\n",
    "    for (i in 0..nDigits - 1) {\n",
    "        using (qubit = Qubit()) {\n",
    "            H(qubit);\n",
    "            set bitList[i] = ResultAsInt([MResetZ(qubit)]);\n",
    "        }  \n",
    "    }\n",
    "\n",
    "    return bitList;\n",
    "}"
   ]
  },
  {
   "cell_type": "code",
   "execution_count": 6,
   "metadata": {},
   "outputs": [
    {
     "data": {
      "application/json": "[\"Qrng10bit\"]",
      "text/html": [
       "<ul><li>Qrng10bit</li></ul>"
      ],
      "text/plain": [
       "Qrng10bit"
      ]
     },
     "execution_count": 6,
     "metadata": {},
     "output_type": "execute_result"
    }
   ],
   "source": [
    "operation Qrng10bit(): Int[] {\n",
    "    return Qrng(10);\n",
    "}"
   ]
  },
  {
   "cell_type": "code",
   "execution_count": 7,
   "metadata": {},
   "outputs": [
    {
     "data": {
      "application/json": "[1,0,1,1,0,0,0,1,1,0]",
      "text/html": [
       "<ul><li>1</li><li>0</li><li>1</li><li>1</li><li>0</li><li>0</li><li>0</li><li>1</li><li>1</li><li>0</li></ul>"
      ],
      "text/plain": [
       "1, 0, 1, 1, 0, 0, 0, 1, 1, 0"
      ]
     },
     "execution_count": 7,
     "metadata": {},
     "output_type": "execute_result"
    }
   ],
   "source": [
    "%simulate Qrng10bit"
   ]
  },
  {
   "cell_type": "markdown",
   "metadata": {},
   "source": [
    "# Deutsch–Jozsa"
   ]
  },
  {
   "cell_type": "code",
   "execution_count": 8,
   "metadata": {},
   "outputs": [
    {
     "data": {
      "application/json": "[\"IdOracle\",\"NotOracle\",\"OneOracle\",\"ZeroOracle\"]",
      "text/html": [
       "<ul><li>IdOracle</li><li>NotOracle</li><li>OneOracle</li><li>ZeroOracle</li></ul>"
      ],
      "text/plain": [
       "IdOracle, NotOracle, OneOracle, ZeroOracle"
      ]
     },
     "execution_count": 8,
     "metadata": {},
     "output_type": "execute_result"
    }
   ],
   "source": [
    "operation ZeroOracle(control : Qubit, target : Qubit) : Unit {\n",
    "}\n",
    "\n",
    "operation OneOracle(control : Qubit, target : Qubit) : Unit {\n",
    "    X(target);\n",
    "}\n",
    "\n",
    "operation IdOracle(control : Qubit, target : Qubit) : Unit {\n",
    "    CNOT(control, target);\n",
    "}\n",
    "\n",
    "operation NotOracle(control : Qubit, target : Qubit) : Unit {\n",
    "    X(control);\n",
    "    CNOT(control, target);\n",
    "    X(control);\n",
    "}"
   ]
  },
  {
   "cell_type": "code",
   "execution_count": 9,
   "metadata": {},
   "outputs": [
    {
     "data": {
      "application/json": "[\"IsOracleBalanced\"]",
      "text/html": [
       "<ul><li>IsOracleBalanced</li></ul>"
      ],
      "text/plain": [
       "IsOracleBalanced"
      ]
     },
     "execution_count": 9,
     "metadata": {},
     "output_type": "execute_result"
    }
   ],
   "source": [
    "operation IsOracleBalanced( oracle : ((Qubit, Qubit) => Unit)) : Bool {\n",
    "    mutable result = Zero;\n",
    "    using ((control, target) = (Qubit(), Qubit())) {\n",
    "        H(control);\n",
    "        X(target);\n",
    "        H(target);\n",
    "        oracle(control, target);\n",
    "        H(target); \n",
    "        X(target);\n",
    "        set result = MResetX(control);\n",
    "    }\n",
    "    return result == One;\n",
    "}"
   ]
  },
  {
   "cell_type": "code",
   "execution_count": 10,
   "metadata": {},
   "outputs": [
    {
     "data": {
      "application/json": "[\"IsIdOracleBalanced\",\"IsNotOracleBalanced\",\"IsOneOracleBalanced\",\"IsOZeroOracleBalanced\"]",
      "text/html": [
       "<ul><li>IsIdOracleBalanced</li><li>IsNotOracleBalanced</li><li>IsOneOracleBalanced</li><li>IsOZeroOracleBalanced</li></ul>"
      ],
      "text/plain": [
       "IsIdOracleBalanced, IsNotOracleBalanced, IsOneOracleBalanced, IsOZeroOracleBalanced"
      ]
     },
     "execution_count": 10,
     "metadata": {},
     "output_type": "execute_result"
    }
   ],
   "source": [
    "operation IsOZeroOracleBalanced() : Bool{\n",
    "    return IsOracleBalanced(ZeroOracle);\n",
    "}\n",
    "\n",
    "operation IsOneOracleBalanced() : Bool{\n",
    "    return IsOracleBalanced(OneOracle);\n",
    "}\n",
    "\n",
    "operation IsIdOracleBalanced() : Bool{\n",
    "    return IsOracleBalanced(IdOracle);\n",
    "}\n",
    "\n",
    "operation IsNotOracleBalanced() : Bool{\n",
    "    return IsOracleBalanced(NotOracle);\n",
    "}"
   ]
  },
  {
   "cell_type": "code",
   "execution_count": 11,
   "metadata": {},
   "outputs": [
    {
     "data": {
      "application/json": "false",
      "text/plain": [
       "False"
      ]
     },
     "execution_count": 11,
     "metadata": {},
     "output_type": "execute_result"
    }
   ],
   "source": [
    "%simulate IsOneOracleBalanced"
   ]
  },
  {
   "cell_type": "code",
   "execution_count": 12,
   "metadata": {},
   "outputs": [
    {
     "data": {
      "application/json": "false",
      "text/plain": [
       "False"
      ]
     },
     "execution_count": 12,
     "metadata": {},
     "output_type": "execute_result"
    }
   ],
   "source": [
    "%simulate IsOneOracleBalanced"
   ]
  },
  {
   "cell_type": "code",
   "execution_count": 13,
   "metadata": {},
   "outputs": [
    {
     "data": {
      "application/json": "true",
      "text/plain": [
       "True"
      ]
     },
     "execution_count": 13,
     "metadata": {},
     "output_type": "execute_result"
    }
   ],
   "source": [
    "%simulate IsIdOracleBalanced"
   ]
  },
  {
   "cell_type": "code",
   "execution_count": 14,
   "metadata": {},
   "outputs": [
    {
     "data": {
      "application/json": "true",
      "text/plain": [
       "True"
      ]
     },
     "execution_count": 14,
     "metadata": {},
     "output_type": "execute_result"
    }
   ],
   "source": [
    "%simulate IsNotOracleBalanced"
   ]
  },
  {
   "cell_type": "code",
   "execution_count": null,
   "metadata": {},
   "outputs": [],
   "source": []
  }
 ],
 "metadata": {
  "kernelspec": {
   "display_name": "Q#",
   "language": "qsharp",
   "name": "iqsharp"
  },
  "language_info": {
   "file_extension": ".qs",
   "mimetype": "text/x-qsharp",
   "name": "qsharp",
   "version": "0.4"
  }
 },
 "nbformat": 4,
 "nbformat_minor": 2
}
