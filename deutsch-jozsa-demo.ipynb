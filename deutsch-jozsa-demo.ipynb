{
 "cells": [
  {
   "cell_type": "markdown",
   "metadata": {},
   "source": [
    "# Intro to Q\\# #\n",
    "---"
   ]
  },
  {
   "cell_type": "markdown",
   "metadata": {},
   "source": [
    "# Qubits\n",
    "What are they and why do I want one?"
   ]
  },
  {
   "cell_type": "markdown",
   "metadata": {},
   "source": [
    "From a mathematical perspective, a qubit can be represented by a vector of 2 complex numbers like this:\n",
    "\n",
    "$\\vec{x} = \\left[\\begin{matrix} 0.25 + 0\\times i \\\\0.75 + 0\\times i \\end{matrix}\\right]$\n",
    "\n",
    "We will often use short hand to label these vectors with a special notation called a ket:\n",
    "\n",
    "$\\left|x\\right>$"
   ]
  },
  {
   "cell_type": "markdown",
   "metadata": {},
   "source": [
    "How do I get a qubit in Q#? \n",
    "\n",
    "Allocate one with a `using` "
   ]
  },
  {
   "cell_type": "markdown",
   "metadata": {},
   "source": [
    "```\n",
    "using (qubit = Qubit[1]) {\n",
    "       // We put here what we want to do with the qubit\n",
    "}\n",
    "\n",
    "// After this using block, the qubit(s) we used are returned back to the target machine\n",
    "```"
   ]
  },
  {
   "cell_type": "code",
   "execution_count": 19,
   "metadata": {},
   "outputs": [
    {
     "data": {
      "application/json": "[\"PrepareQubit\"]",
      "text/html": [
       "<ul><li>PrepareQubit</li></ul>"
      ],
      "text/plain": [
       "PrepareQubit"
      ]
     },
     "execution_count": 19,
     "metadata": {},
     "output_type": "execute_result"
    }
   ],
   "source": [
    "open Microsoft.Quantum.Extensions.Diagnostics;\n",
    "\n",
    "operation PrepareQubit() : Unit {\n",
    "    using (qubit = Qubit[1]) {     // We want a tuple of 1 qubit to use for our task\n",
    "            DumpMachine();         // Print out what the simulator is keeping a record of\n",
    "            ResetAll(qubit);       // We have to return our qubit to the simulator the same way we got it\n",
    "    }\n",
    "}"
   ]
  },
  {
   "cell_type": "markdown",
   "metadata": {},
   "source": [
    "Cool! now we have an `operation` which is the main way to use qubits in Q#. We can run our operation `PrepareQubit` by asking the IQ# kernel to simulate that operation:"
   ]
  },
  {
   "cell_type": "code",
   "execution_count": 20,
   "metadata": {},
   "outputs": [
    {
     "name": "stdout",
     "output_type": "stream",
     "text": [
      "# wave function for qubits with ids (least to most significant): 0\n",
      "0:\t1\t0\n",
      "1:\t0\t0\n"
     ]
    },
    {
     "data": {
      "application/json": "{\"@type\":\"tuple\"}",
      "text/plain": [
       "()"
      ]
     },
     "execution_count": 20,
     "metadata": {},
     "output_type": "execute_result"
    }
   ],
   "source": [
    "%simulate PrepareQubit"
   ]
  },
  {
   "cell_type": "markdown",
   "metadata": {},
   "source": [
    "You can read the above output like the vector we wrote above, where the first column is the index, the second is the real part of the vector at that position, and the second is the complex part of that vector entry.\n",
    "\n",
    "So the printout\n",
    "```\n",
    "0:\t1\t0\n",
    "1:\t0\t0\n",
    "```\n",
    "is the same as \n",
    "$\\left[\\begin{matrix} 1 + 0\\times i \\\\0 + 0\\times i \\end{matrix}\\right]$"
   ]
  },
  {
   "cell_type": "markdown",
   "metadata": {},
   "source": [
    "Since we are running on a simulator, we can also use some built-in utilities in the prelude to learn more about the qubit resources available:`"
   ]
  },
  {
   "cell_type": "code",
   "execution_count": 21,
   "metadata": {},
   "outputs": [
    {
     "data": {
      "application/json": "32",
      "text/plain": [
       "32"
      ]
     },
     "execution_count": 21,
     "metadata": {},
     "output_type": "execute_result"
    }
   ],
   "source": [
    "%simulate GetQubitsAvailableToUse "
   ]
  },
  {
   "cell_type": "markdown",
   "metadata": {},
   "source": [
    "## Quantum random number generator"
   ]
  },
  {
   "cell_type": "code",
   "execution_count": 27,
   "metadata": {},
   "outputs": [
    {
     "name": "stderr",
     "output_type": "stream",
     "text": [
      "C:/snippet:30b12e50-b7e8-41a9-aaad-a933ace9be5f(2,16): error QS6210: The type of the given argument does not match the expected type. Got an argument of type Int, expecting one of type Unit instead.\n",
      "C:/snippet:30b12e50-b7e8-41a9-aaad-a933ace9be5f(2,12): error QS6301: The type Result of the given expression is not compatible with the expected return type Int[].\n"
     ]
    }
   ],
   "source": [
    "operation Qrng() : Result {\n",
    "    using (qubit = Qubit()) {\n",
    "\n",
    "        H(qubit);\n",
    "       \n",
    "        return MResetZ(qubit);\n",
    "    }\n",
    "}"
   ]
  },
  {
   "cell_type": "code",
   "execution_count": null,
   "metadata": {},
   "outputs": [],
   "source": [
    "%simulate Qrng"
   ]
  },
  {
   "cell_type": "code",
   "execution_count": 28,
   "metadata": {},
   "outputs": [
    {
     "data": {
      "application/json": "[\"QrngWithInfo\"]",
      "text/html": [
       "<ul><li>QrngWithInfo</li></ul>"
      ],
      "text/plain": [
       "QrngWithInfo"
      ]
     },
     "execution_count": 28,
     "metadata": {},
     "output_type": "execute_result"
    }
   ],
   "source": [
    "open Microsoft.Quantum.Extensions.Diagnostics;\n",
    "operation QrngWithInfo() : Result {\n",
    "\n",
    "    using (qubit = Qubit()) {\n",
    "    \n",
    "        Message(\"Here is what the simulator uses to record a qubit in the 0 state:\");\n",
    "        DumpRegister((), [qubit]);\n",
    "\n",
    "        Message(\" \");\n",
    "        \n",
    "        H(qubit);\n",
    "        \n",
    "        Message(\"Here is what the simulator uses to record a superposition state:\");\n",
    "        DumpRegister((), [qubit]);\n",
    "        \n",
    "        return MResetZ(qubit);\n",
    "    }\n",
    "}"
   ]
  },
  {
   "cell_type": "code",
   "execution_count": 34,
   "metadata": {},
   "outputs": [
    {
     "name": "stdout",
     "output_type": "stream",
     "text": [
      "Here is what the simulator uses to record a qubit in the 0 state:\n",
      "# wave function for qubits with ids (least to most significant): 0\n",
      "0:\t1\t0\n",
      "1:\t0\t0\n",
      " \n",
      "Here is what the simulator uses to record a superposition state:\n",
      "# wave function for qubits with ids (least to most significant): 0\n",
      "0:\t0.707106781186548\t0\n",
      "1:\t0.707106781186548\t0\n"
     ]
    },
    {
     "data": {
      "application/json": "0",
      "text/plain": [
       "Zero"
      ]
     },
     "execution_count": 34,
     "metadata": {},
     "output_type": "execute_result"
    }
   ],
   "source": [
    "%simulate QrngWithInfo"
   ]
  },
  {
   "cell_type": "code",
   "execution_count": 35,
   "metadata": {},
   "outputs": [
    {
     "data": {
      "application/json": "[\"Qrng\"]",
      "text/html": [
       "<ul><li>Qrng</li></ul>"
      ],
      "text/plain": [
       "Qrng"
      ]
     },
     "execution_count": 35,
     "metadata": {},
     "output_type": "execute_result"
    }
   ],
   "source": [
    "operation Qrng(nDigits : Int) : Int[] {\n",
    "\n",
    "    // Start with an array for the results:\n",
    "    mutable bitList = new Int[nDigits];\n",
    "    \n",
    "    // Loop for nDigits, preparing an entangled state and then measurning it\n",
    "    for (i in 0..nDigits - 1) {\n",
    "        using (qubit = Qubit()) {\n",
    "            H(qubit);\n",
    "            set bitList[i] = ResultAsInt([MResetZ(qubit)]);\n",
    "        }  \n",
    "    }\n",
    "\n",
    "    return bitList;\n",
    "}"
   ]
  },
  {
   "cell_type": "code",
   "execution_count": 36,
   "metadata": {},
   "outputs": [
    {
     "data": {
      "application/json": "[\"Qrng10bit\"]",
      "text/html": [
       "<ul><li>Qrng10bit</li></ul>"
      ],
      "text/plain": [
       "Qrng10bit"
      ]
     },
     "execution_count": 36,
     "metadata": {},
     "output_type": "execute_result"
    }
   ],
   "source": [
    "operation Qrng10bit(): Int[] {\n",
    "    return Qrng(10);\n",
    "}"
   ]
  },
  {
   "cell_type": "code",
   "execution_count": 37,
   "metadata": {},
   "outputs": [
    {
     "data": {
      "application/json": "[0,0,0,1,1,0,1,0,1,1]",
      "text/html": [
       "<ul><li>0</li><li>0</li><li>0</li><li>1</li><li>1</li><li>0</li><li>1</li><li>0</li><li>1</li><li>1</li></ul>"
      ],
      "text/plain": [
       "0, 0, 0, 1, 1, 0, 1, 0, 1, 1"
      ]
     },
     "execution_count": 37,
     "metadata": {},
     "output_type": "execute_result"
    }
   ],
   "source": [
    "%simulate Qrng10bit"
   ]
  },
  {
   "cell_type": "markdown",
   "metadata": {},
   "source": [
    "# Deutsch–Jozsa"
   ]
  },
  {
   "cell_type": "code",
   "execution_count": null,
   "metadata": {},
   "outputs": [],
   "source": [
    "operation ZeroOracle(control : Qubit, target : Qubit) : Unit {\n",
    "}\n",
    "\n",
    "operation OneOracle(control : Qubit, target : Qubit) : Unit {\n",
    "    X(target);\n",
    "}\n",
    "\n",
    "operation IdOracle(control : Qubit, target : Qubit) : Unit {\n",
    "    CNOT(control, target);\n",
    "}\n",
    "\n",
    "operation NotOracle(control : Qubit, target : Qubit) : Unit {\n",
    "    X(control);\n",
    "    CNOT(control, target);\n",
    "    X(control);\n",
    "}"
   ]
  },
  {
   "cell_type": "code",
   "execution_count": null,
   "metadata": {},
   "outputs": [],
   "source": [
    "operation IsOracleBalanced( oracle : ((Qubit, Qubit) => Unit)) : Bool {\n",
    "    mutable result = Zero;\n",
    "    using ((control, target) = (Qubit(), Qubit())) {\n",
    "        H(control);\n",
    "        X(target);\n",
    "        H(target);\n",
    "        oracle(control, target);\n",
    "        H(target); \n",
    "        X(target);\n",
    "        set result = MResetX(control);\n",
    "    }\n",
    "    return result == One;\n",
    "}"
   ]
  },
  {
   "cell_type": "code",
   "execution_count": null,
   "metadata": {},
   "outputs": [],
   "source": [
    "operation IsOZeroOracleBalanced() : Bool{\n",
    "    return IsOracleBalanced(ZeroOracle);\n",
    "}\n",
    "\n",
    "operation IsOneOracleBalanced() : Bool{\n",
    "    return IsOracleBalanced(OneOracle);\n",
    "}\n",
    "\n",
    "operation IsIdOracleBalanced() : Bool{\n",
    "    return IsOracleBalanced(IdOracle);\n",
    "}\n",
    "\n",
    "operation IsNotOracleBalanced() : Bool{\n",
    "    return IsOracleBalanced(NotOracle);\n",
    "}"
   ]
  },
  {
   "cell_type": "code",
   "execution_count": null,
   "metadata": {},
   "outputs": [],
   "source": [
    "%simulate IsOneOracleBalanced"
   ]
  },
  {
   "cell_type": "code",
   "execution_count": null,
   "metadata": {},
   "outputs": [],
   "source": [
    "%simulate IsOneOracleBalanced"
   ]
  },
  {
   "cell_type": "code",
   "execution_count": null,
   "metadata": {},
   "outputs": [],
   "source": [
    "%simulate IsIdOracleBalanced"
   ]
  },
  {
   "cell_type": "code",
   "execution_count": null,
   "metadata": {},
   "outputs": [],
   "source": [
    "%simulate IsNotOracleBalanced"
   ]
  },
  {
   "cell_type": "code",
   "execution_count": null,
   "metadata": {},
   "outputs": [],
   "source": []
  }
 ],
 "metadata": {
  "kernelspec": {
   "display_name": "Q#",
   "language": "qsharp",
   "name": "iqsharp"
  },
  "language_info": {
   "file_extension": ".qs",
   "mimetype": "text/x-qsharp",
   "name": "qsharp",
   "version": "0.4"
  }
 },
 "nbformat": 4,
 "nbformat_minor": 2
}
